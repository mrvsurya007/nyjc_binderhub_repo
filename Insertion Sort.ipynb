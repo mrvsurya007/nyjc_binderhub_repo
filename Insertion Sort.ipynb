{
 "cells": [
  {
   "cell_type": "markdown",
   "metadata": {},
   "source": [
    "Insertion Sort (Method 1)"
   ]
  },
  {
   "cell_type": "code",
   "execution_count": 19,
   "metadata": {},
   "outputs": [
    {
     "data": {
      "text/plain": [
       "[1, 2, 3, 4, 5, 6]"
      ]
     },
     "execution_count": 19,
     "metadata": {},
     "output_type": "execute_result"
    }
   ],
   "source": [
    "def insertion_sort(sequence):\n",
    "    # We start from 1 since the first element is\n",
    "    # trivially sorted\n",
    "    for i in range(1, len(sequence)):\n",
    "        key = sequence[i]\n",
    "        j = i - 1\n",
    "\n",
    "        # Compare key with each element on the left of it until an element \n",
    "        # smaller than it is found\n",
    "        # For descending order, change key<sequence[j] to key>sequence[j].\n",
    "        while j >= 0 and key < sequence[j]:\n",
    "            sequence[j+1] = sequence[j]\n",
    "            j = j - 1\n",
    "\n",
    "        # Place key at the element just smaller than it.\n",
    "        sequence[j+1] = key\n",
    "        \n",
    "    return sequence\n",
    "\n",
    "insertion_sort([5,1,6,2,4,3])"
   ]
  },
  {
   "cell_type": "markdown",
   "metadata": {},
   "source": [
    "Insertion Sort (Method 2)"
   ]
  },
  {
   "cell_type": "code",
   "execution_count": 15,
   "metadata": {},
   "outputs": [
    {
     "data": {
      "text/plain": [
       "[1, 2, 3, 4, 5, 6]"
      ]
     },
     "execution_count": 15,
     "metadata": {},
     "output_type": "execute_result"
    }
   ],
   "source": [
    "def insertion_sort2(sequence):\n",
    "    for i in range(1, len(sequence)):\n",
    "        found = False\n",
    "        for j in range(i):\n",
    "            if not found and sequence[i] < sequence[j]:\n",
    "                # we reassign elements from j to i,\n",
    "                # making element at index i the first element rather than last\n",
    "                sequence[j:i+1] = [sequence[i]] + sequence[j:i]\n",
    "                found = True\n",
    "            # if j reaches i-1 and found == False,\n",
    "            # element i is the largest in the sorted\n",
    "            # subarray and no insertion is necessary        \n",
    "    return sequence\n",
    "\n",
    "insertion_sort2([5,1,6,2,4,3])    "
   ]
  },
  {
   "cell_type": "markdown",
   "metadata": {},
   "source": [
    "Insertion Sort (Method 3)"
   ]
  },
  {
   "cell_type": "code",
   "execution_count": 17,
   "metadata": {},
   "outputs": [
    {
     "data": {
      "text/plain": [
       "[1, 2, 3, 4, 5, 6]"
      ]
     },
     "execution_count": 17,
     "metadata": {},
     "output_type": "execute_result"
    }
   ],
   "source": [
    "def insertion_sort3(sequence):\n",
    "    for i in range(1, len(sequence)):\n",
    "        found = False\n",
    "        for j in range(i):\n",
    "            if not found and sequence[i] < sequence[j]:\n",
    "                sequence.insert(j, sequence.pop(i))\n",
    "                found = True\n",
    "                \n",
    "    return sequence\n",
    "\n",
    "insertion_sort3([5,1,6,2,4,3])"
   ]
  },
  {
   "cell_type": "code",
   "execution_count": 63,
   "metadata": {},
   "outputs": [
    {
     "name": "stdout",
     "output_type": "stream",
     "text": [
      "insertion_sort([488, 37, 441, 482, 884, 142, 33, 509, 473, 258])\n",
      "Algorithm: insertion_sort. Minimum execution time: 6.989999997131235e-05\n",
      "insertion_sort2([488, 37, 441, 482, 884, 142, 33, 509, 473, 258])\n",
      "Algorithm: insertion_sort2. Minimum execution time: 0.0001881000000594213\n",
      "insertion_sort3([488, 37, 441, 482, 884, 142, 33, 509, 473, 258])\n",
      "Algorithm: insertion_sort3. Minimum execution time: 0.00015829999983907328\n"
     ]
    }
   ],
   "source": [
    "from random import randint\n",
    "from timeit import repeat\n",
    "\n",
    "def run_sorting_algorithm(algorithm, array):\n",
    "    # Set up the context and prepare the call to the specified\n",
    "    # algorithm using the supplied array. Only import the\n",
    "    # algorithm function if it's not the built-in `sorted()`.\n",
    "    setup_code = f\"from __main__ import {algorithm}\" \\\n",
    "        if algorithm != \"sorted\" else \"\"\n",
    "\n",
    "    stmt = f\"{algorithm}({array})\"\n",
    "    print(stmt)\n",
    "\n",
    "    # Execute the code ten different times and return the time\n",
    "    # in seconds that each execution took\n",
    "    times = repeat(setup=setup_code, stmt=stmt, repeat=3, number=10)\n",
    "\n",
    "    # Finally, display the name of the algorithm and the\n",
    "    # minimum time it took to run\n",
    "    print(f\"Algorithm: {algorithm}. Minimum execution time: {min(times)}\")\n",
    "\n",
    "    \n",
    "ARRAY_LENGTH = 10\n",
    "\n",
    "if __name__ == \"__main__\":\n",
    "    # Generate an array of `ARRAY_LENGTH` items consisting\n",
    "    # of random integer values between 0 and 999\n",
    "    array = [randint(0, 1000) for i in range(ARRAY_LENGTH)]\n",
    "\n",
    "    # Call the function using the name of the sorting algorithm\n",
    "    # and the array you just created\n",
    "    run_sorting_algorithm(algorithm=\"insertion_sort\", array=array)\n",
    "    run_sorting_algorithm(algorithm=\"insertion_sort2\", array=array)\n",
    "    run_sorting_algorithm(algorithm=\"insertion_sort3\", array=array)"
   ]
  }
 ],
 "metadata": {
  "kernelspec": {
   "display_name": "Python 3",
   "language": "python",
   "name": "python3"
  },
  "language_info": {
   "codemirror_mode": {
    "name": "ipython",
    "version": 3
   },
   "file_extension": ".py",
   "mimetype": "text/x-python",
   "name": "python",
   "nbconvert_exporter": "python",
   "pygments_lexer": "ipython3",
   "version": "3.6.4"
  }
 },
 "nbformat": 4,
 "nbformat_minor": 2
}
