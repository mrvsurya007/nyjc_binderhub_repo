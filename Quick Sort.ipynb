{
 "cells": [
  {
   "cell_type": "code",
   "execution_count": 5,
   "metadata": {},
   "outputs": [
    {
     "name": "stdout",
     "output_type": "stream",
     "text": [
      "number    square    cube      \n",
      "0         0         0         \n",
      "1         1         1         \n",
      "2         4         8         \n",
      "3         9         27        \n",
      "4         16        64        \n",
      "5         25        125       \n",
      "\n",
      "0         0         0         \n",
      "1         1         1         \n",
      "2         4         8         \n",
      "3         9         27        \n",
      "4         16        64        \n",
      "5         25        125       \n"
     ]
    }
   ],
   "source": [
    "s1 = 'number'\n",
    "s2 = 'square'\n",
    "s3 = 'cube'\n",
    "\n",
    "print(f'{s1:10}{s2:10}{s3:10}')\n",
    "\n",
    "\n",
    "for num in range(6):\n",
    "    print(f'{num:<10}{num*num:<10}{num*num*num:<10}')\n",
    "\n",
    "print()\n",
    "#Alternative answer\n",
    "for num in range(6):\n",
    "    print(f'{num:<10}{num**2:<10}{num**3:<10}')"
   ]
  },
  {
   "cell_type": "markdown",
   "metadata": {},
   "source": [
    "Quick Sort"
   ]
  },
  {
   "cell_type": "code",
   "execution_count": 5,
   "metadata": {},
   "outputs": [
    {
     "data": {
      "text/plain": [
       "[1, 2, 3, 4, 5, 6, 7, 8, 9, 10, 11]"
      ]
     },
     "execution_count": 5,
     "metadata": {},
     "output_type": "execute_result"
    }
   ],
   "source": [
    "def quick_sort(sequence):\n",
    "    length = len(sequence)\n",
    "    if length <= 1:\n",
    "        return sequence\n",
    "    \n",
    "    pivot = sequence.pop()\n",
    "    \n",
    "    items_greater, items_lower = [], []\n",
    "    \n",
    "    for item in sequence:\n",
    "        if item > pivot:\n",
    "            items_greater.append(item)\n",
    "        else:\n",
    "            items_lower.append(item)\n",
    "\n",
    "    return quick_sort(items_lower) + [pivot] + quick_sort(items_greater)\n",
    "    \n",
    "quick_sort([8,4,3,1,6,7,11,9,2,10,5])"
   ]
  }
 ],
 "metadata": {
  "kernelspec": {
   "display_name": "Python 3",
   "language": "python",
   "name": "python3"
  },
  "language_info": {
   "codemirror_mode": {
    "name": "ipython",
    "version": 3
   },
   "file_extension": ".py",
   "mimetype": "text/x-python",
   "name": "python",
   "nbconvert_exporter": "python",
   "pygments_lexer": "ipython3",
   "version": "3.6.4"
  }
 },
 "nbformat": 4,
 "nbformat_minor": 2
}
